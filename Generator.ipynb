{
  "cells": [
    {
      "cell_type": "markdown",
      "metadata": {
        "id": "view-in-github",
        "colab_type": "text"
      },
      "source": [
        "<a href=\"https://colab.research.google.com/github/mashine01/JournalismAI/blob/main/Generator.ipynb\" target=\"_parent\"><img src=\"https://colab.research.google.com/assets/colab-badge.svg\" alt=\"Open In Colab\"/></a>"
      ]
    },
    {
      "cell_type": "code",
      "execution_count": null,
      "metadata": {
        "colab": {
          "base_uri": "https://localhost:8080/"
        },
        "id": "BzRrKobyVW7O",
        "outputId": "fd666888-b4e9-4ff6-dd91-d192cb6998c7"
      },
      "outputs": [
        {
          "output_type": "stream",
          "name": "stdout",
          "text": [
            "Collecting llama-cpp-python==0.1.78\n",
            "  Downloading llama_cpp_python-0.1.78.tar.gz (1.7 MB)\n",
            "\u001b[2K     \u001b[90m━━━━━━━━━━━━━━━━━━━━━━━━━━━━━━━━━━━━━━━━\u001b[0m \u001b[32m1.7/1.7 MB\u001b[0m \u001b[31m12.3 MB/s\u001b[0m eta \u001b[36m0:00:00\u001b[0m\n",
            "\u001b[?25h  Installing build dependencies ... \u001b[?25l\u001b[?25hdone\n",
            "  Getting requirements to build wheel ... \u001b[?25l\u001b[?25hdone\n",
            "  Preparing metadata (pyproject.toml) ... \u001b[?25l\u001b[?25hdone\n",
            "Collecting numpy==1.23.4\n",
            "  Downloading numpy-1.23.4-cp310-cp310-manylinux_2_17_x86_64.manylinux2014_x86_64.whl (17.1 MB)\n",
            "\u001b[2K     \u001b[90m━━━━━━━━━━━━━━━━━━━━━━━━━━━━━━━━━━━━━━━━\u001b[0m \u001b[32m17.1/17.1 MB\u001b[0m \u001b[31m57.0 MB/s\u001b[0m eta \u001b[36m0:00:00\u001b[0m\n",
            "\u001b[?25hRequirement already satisfied: typing-extensions>=4.5.0 in /usr/local/lib/python3.10/dist-packages (from llama-cpp-python==0.1.78) (4.5.0)\n",
            "Requirement already satisfied: diskcache>=5.6.1 in /usr/local/lib/python3.10/dist-packages (from llama-cpp-python==0.1.78) (5.6.3)\n",
            "Building wheels for collected packages: llama-cpp-python\n",
            "  Building wheel for llama-cpp-python (pyproject.toml) ... \u001b[?25l\u001b[?25hdone\n",
            "  Created wheel for llama-cpp-python: filename=llama_cpp_python-0.1.78-cp310-cp310-linux_x86_64.whl size=5811212 sha256=3415ae91afedb948e05c18201ed25178f5e6b0f98442f8068bc2016c9d17d9d8\n",
            "  Stored in directory: /root/.cache/pip/wheels/61/f9/20/9ca660a9d3f2a47e44217059409478865948b5c8a1cba70030\n",
            "Successfully built llama-cpp-python\n",
            "Installing collected packages: numpy, llama-cpp-python\n",
            "  Attempting uninstall: numpy\n",
            "    Found existing installation: numpy 1.23.5\n",
            "    Uninstalling numpy-1.23.5:\n",
            "      Successfully uninstalled numpy-1.23.5\n",
            "\u001b[31mERROR: pip's dependency resolver does not currently take into account all the packages that are installed. This behaviour is the source of the following dependency conflicts.\n",
            "lida 0.0.10 requires fastapi, which is not installed.\n",
            "lida 0.0.10 requires kaleido, which is not installed.\n",
            "lida 0.0.10 requires python-multipart, which is not installed.\n",
            "lida 0.0.10 requires uvicorn, which is not installed.\n",
            "tensorflow 2.15.0 requires numpy<2.0.0,>=1.23.5, but you have numpy 1.23.4 which is incompatible.\u001b[0m\u001b[31m\n",
            "\u001b[0mSuccessfully installed llama-cpp-python-0.1.78 numpy-1.23.4\n",
            "Requirement already satisfied: huggingface_hub in /usr/local/lib/python3.10/dist-packages (0.20.2)\n",
            "Requirement already satisfied: filelock in /usr/local/lib/python3.10/dist-packages (from huggingface_hub) (3.13.1)\n",
            "Requirement already satisfied: fsspec>=2023.5.0 in /usr/local/lib/python3.10/dist-packages (from huggingface_hub) (2023.6.0)\n",
            "Requirement already satisfied: requests in /usr/local/lib/python3.10/dist-packages (from huggingface_hub) (2.31.0)\n",
            "Requirement already satisfied: tqdm>=4.42.1 in /usr/local/lib/python3.10/dist-packages (from huggingface_hub) (4.66.1)\n",
            "Requirement already satisfied: pyyaml>=5.1 in /usr/local/lib/python3.10/dist-packages (from huggingface_hub) (6.0.1)\n",
            "Requirement already satisfied: typing-extensions>=3.7.4.3 in /usr/local/lib/python3.10/dist-packages (from huggingface_hub) (4.5.0)\n",
            "Requirement already satisfied: packaging>=20.9 in /usr/local/lib/python3.10/dist-packages (from huggingface_hub) (23.2)\n",
            "Requirement already satisfied: charset-normalizer<4,>=2 in /usr/local/lib/python3.10/dist-packages (from requests->huggingface_hub) (3.3.2)\n",
            "Requirement already satisfied: idna<4,>=2.5 in /usr/local/lib/python3.10/dist-packages (from requests->huggingface_hub) (3.6)\n",
            "Requirement already satisfied: urllib3<3,>=1.21.1 in /usr/local/lib/python3.10/dist-packages (from requests->huggingface_hub) (2.0.7)\n",
            "Requirement already satisfied: certifi>=2017.4.17 in /usr/local/lib/python3.10/dist-packages (from requests->huggingface_hub) (2023.11.17)\n"
          ]
        }
      ],
      "source": [
        "# GPU llama-cpp-python\n",
        "!CMAKE_ARGS=\"-DLLAMA_CUBLAS=on\" FORCE_CMAKE=1 pip install llama-cpp-python==0.1.78 numpy==1.23.4\n",
        "!pip install huggingface_hub"
      ]
    },
    {
      "cell_type": "code",
      "execution_count": null,
      "metadata": {
        "id": "qWGKVtjbVZpu"
      },
      "outputs": [],
      "source": [
        "from huggingface_hub import hf_hub_download\n",
        "from llama_cpp import Llama\n",
        "import requests"
      ]
    },
    {
      "cell_type": "code",
      "execution_count": null,
      "metadata": {
        "id": "oZOZFjzaWaSc",
        "colab": {
          "base_uri": "https://localhost:8080/",
          "height": 190,
          "referenced_widgets": [
            "faa45f169b4b4b1e8bc116dc76466607",
            "eac46794be5b42f29ef67de164611372",
            "cbbe972241bb41ee92e71972ed91f3bb",
            "09cb5b5ac3444e99b152f9e7b43d648e",
            "4896a745e2ec4e41a937f41077cc55f1",
            "504dd43e18934604b386d49ef30eb81e",
            "f61e9338302c45938ef983abd1590da3",
            "0554514b8a79462fa05b87f63757b81c",
            "d2a011ca3cba4c3aa3188eec21acf2cb",
            "c8252b986c4447c78a4fe923679b86fd",
            "3de54fa06aaf44ba85e6aecdf22c7af0"
          ]
        },
        "outputId": "c70f8588-a9fc-4fb1-b9c6-553ec0c22a16"
      },
      "outputs": [
        {
          "output_type": "stream",
          "name": "stderr",
          "text": [
            "/usr/local/lib/python3.10/dist-packages/huggingface_hub/utils/_token.py:88: UserWarning: \n",
            "The secret `HF_TOKEN` does not exist in your Colab secrets.\n",
            "To authenticate with the Hugging Face Hub, create a token in your settings tab (https://huggingface.co/settings/tokens), set it as secret in your Google Colab and restart your session.\n",
            "You will be able to reuse this secret in all of your notebooks.\n",
            "Please note that authentication is recommended but still optional to access public models or datasets.\n",
            "  warnings.warn(\n"
          ]
        },
        {
          "output_type": "display_data",
          "data": {
            "text/plain": [
              "llama2_article.bin:   0%|          | 0.00/5.06G [00:00<?, ?B/s]"
            ],
            "application/vnd.jupyter.widget-view+json": {
              "version_major": 2,
              "version_minor": 0,
              "model_id": "faa45f169b4b4b1e8bc116dc76466607"
            }
          },
          "metadata": {}
        },
        {
          "output_type": "stream",
          "name": "stderr",
          "text": [
            "AVX = 1 | AVX2 = 1 | AVX512 = 0 | AVX512_VBMI = 0 | AVX512_VNNI = 0 | FMA = 1 | NEON = 0 | ARM_FMA = 0 | F16C = 1 | FP16_VA = 0 | WASM_SIMD = 0 | BLAS = 1 | SSE3 = 1 | VSX = 0 | \n"
          ]
        }
      ],
      "source": [
        "model= \"mash01/llama2_7b_article\"\n",
        "model_basename = \"llama2_article.bin\"\n",
        "model_path = hf_hub_download(repo_id=model, filename=model_basename)\n",
        "# GPU\n",
        "lcpp_llm = None\n",
        "lcpp_llm = Llama(\n",
        "    model_path=model_path,\n",
        "    n_threads=2,\n",
        "    n_batch=2048,\n",
        "    n_ctx=2048,\n",
        "    n_gpu_layers=32\n",
        "    )"
      ]
    },
    {
      "cell_type": "code",
      "source": [
        "model2= \"TheBloke/LLaMa-13B-GGML\"\n",
        "model_basename2 = \"llama-13b.ggmlv3.q5_1.bin\"\n",
        "model_path2 = hf_hub_download(repo_id=model2, filename=model_basename2)\n",
        "# GPU\n",
        "lcpp_llm2 = None\n",
        "lcpp_llm2 = Llama(\n",
        "    model_path=model_path2,\n",
        "    n_threads=2,\n",
        "    n_batch=2048,\n",
        "    n_ctx = 2048,\n",
        "    n_gpu_layers=64\n",
        "    )"
      ],
      "metadata": {
        "colab": {
          "base_uri": "https://localhost:8080/",
          "height": 49,
          "referenced_widgets": [
            "734bc236b13a440583934cca49e9edf1",
            "a2419e9f005148539e850ac849d67b05",
            "e9cd1faacc1b42adb32e7654615f0bef",
            "69877c7832bd46b1a966b9b4d53a28a4",
            "bb97c95c4fc046dab0162167bbf3e4b5",
            "6f0c8277b9a848d18f40950382dee48f",
            "714186cb91eb4e33804619e31c646147",
            "8e9283b49b4f465992ab197061152abc",
            "d6eaabbb6f06452687876c5a87dffb1d",
            "fe7cf850e51940d7b595b413206667e9",
            "fbdc3caceac843d38c0e324ca0301778"
          ]
        },
        "id": "kCSNf-TlazrB",
        "outputId": "1c290e55-2c30-4104-bd1d-3d02bcb2feb7"
      },
      "execution_count": null,
      "outputs": [
        {
          "output_type": "display_data",
          "data": {
            "text/plain": [
              "llama-13b.ggmlv3.q5_1.bin:   0%|          | 0.00/9.76G [00:00<?, ?B/s]"
            ],
            "application/vnd.jupyter.widget-view+json": {
              "version_major": 2,
              "version_minor": 0,
              "model_id": "734bc236b13a440583934cca49e9edf1"
            }
          },
          "metadata": {}
        }
      ]
    },
    {
      "cell_type": "code",
      "execution_count": null,
      "metadata": {
        "id": "gxaHQaVBaf5g"
      },
      "outputs": [],
      "source": [
        "# Function to get weather data from OpenWeatherMap API\n",
        "def get_weather_data(city: str, api_key: str) -> dict:\n",
        "    url = f'http://api.openweathermap.org/data/2.5/weather?q={city}&appid={api_key}'\n",
        "    response = requests.get(url)\n",
        "    if response.status_code == 200:\n",
        "        return response.json()\n",
        "    else:\n",
        "        print(f\"Failed to fetch weather data. Status code: {response.status_code}\")\n",
        "        return None\n",
        "\n",
        "# Function to get sports data from CricAPI\n",
        "def get_sports_data(api_key: str, api_id: str) -> dict:\n",
        "    url = f'https://api.cricapi.com/v1/series_info?apikey=940e65d4-b00c-40dc-a39f-8813eb2436c8&id={api_id}'\n",
        "    response = requests.get(url)\n",
        "    if response.status_code == 200:\n",
        "        return response.json()\n",
        "    else:\n",
        "        print(f\"Failed to fetch weather data. Status code: {response.status_code}\")\n",
        "        return None"
      ]
    },
    {
      "cell_type": "code",
      "source": [
        "category = \"weather\"\n",
        "city_name = \"Lahore\"\n",
        "api_key = \"0f462ef077801497ce29a04fef6cc660\"\n",
        "api_data = get_weather_data(city_name, api_key)\n",
        "print(api_data)"
      ],
      "metadata": {
        "colab": {
          "base_uri": "https://localhost:8080/"
        },
        "id": "7T_P-1dOICGK",
        "outputId": "a7500b8f-c563-48e8-e368-6c0012ae692d"
      },
      "execution_count": null,
      "outputs": [
        {
          "output_type": "stream",
          "name": "stdout",
          "text": [
            "{'coord': {'lon': 74.3436, 'lat': 31.5497}, 'weather': [{'id': 701, 'main': 'Mist', 'description': 'mist', 'icon': '50n'}], 'base': 'stations', 'main': {'temp': 281.14, 'feels_like': 281.14, 'temp_min': 281.14, 'temp_max': 281.14, 'pressure': 1015, 'humidity': 81}, 'visibility': 800, 'wind': {'speed': 0, 'deg': 0}, 'clouds': {'all': 4}, 'dt': 1705433589, 'sys': {'type': 1, 'id': 7585, 'country': 'PK', 'sunrise': 1705456929, 'sunset': 1705494137}, 'timezone': 18000, 'id': 1172451, 'name': 'Lahore', 'cod': 200}\n"
          ]
        }
      ]
    },
    {
      "cell_type": "code",
      "source": [
        "category = \"sports\"\n",
        "api_id = \"00c21116-37f4-4b9c-9a96-a55330463208\"\n",
        "api_key = \"940e65d4-b00c-40dc-a39f-8813eb2436c8\"\n",
        "api_data = get_sports_data(api_key, api_id)\n",
        "print(api_data)"
      ],
      "metadata": {
        "colab": {
          "base_uri": "https://localhost:8080/"
        },
        "id": "bFRd_9yZH_-1",
        "outputId": "588c6718-8681-4bb4-eff3-3eb85e3d65d8"
      },
      "execution_count": null,
      "outputs": [
        {
          "output_type": "stream",
          "name": "stdout",
          "text": [
            "{'apikey': '940e65d4-b00c-40dc-a39f-8813eb2436c8', 'data': {'info': {'id': '00c21116-37f4-4b9c-9a96-a55330463208', 'name': 'Singapore Women tour of Philippines 2023', 'startdate': '2023-12-27', 'enddate': 'Dec 29', 'odi': 0, 't20': 3, 'test': 0, 'squads': 2, 'matches': 3}, 'matchList': [{'id': 'fc8702b8-f275-4446-b182-f7fff999a089', 'name': 'Philippines Women vs Singapore Women, 1st T20I', 'matchType': 't20', 'status': 'Singapore Women won by 189 runs', 'venue': 'Friendship Oval Emilio Aguinaldo College, Dasmarinas', 'date': '2023-12-27', 'dateTimeGMT': '2023-12-27T02:00:00', 'teams': ['Philippines Women', 'Singapore Women'], 'teamInfo': [{'name': 'Philippines Women', 'shortname': 'PHW', 'img': 'https://g.cricapi.com/iapi/70-637869112270788027.webp?w=48'}, {'name': 'Singapore Women', 'shortname': 'SIN-W', 'img': 'https://g.cricapi.com/iapi/1553-637926305464374356.webp?w=48'}], 'fantasyEnabled': True, 'bbbEnabled': False, 'hasSquad': True, 'matchStarted': True, 'matchEnded': True}, {'id': 'd091f847-caa4-4317-af10-1c80c3e96820', 'name': 'Philippines Women vs Singapore Women, 2nd T20I', 'matchType': 't20', 'status': 'Singapore Women won by 79 runs', 'venue': 'Friendship Oval Emilio Aguinaldo College, Dasmarinas', 'date': '2023-12-28', 'dateTimeGMT': '2023-12-28T02:00:00', 'teams': ['Philippines Women', 'Singapore Women'], 'teamInfo': [{'name': 'Philippines Women', 'shortname': 'PHW', 'img': 'https://g.cricapi.com/iapi/70-637869112270788027.webp?w=48'}, {'name': 'Singapore Women', 'shortname': 'SIN-W', 'img': 'https://g.cricapi.com/iapi/1553-637926305464374356.webp?w=48'}], 'fantasyEnabled': True, 'bbbEnabled': False, 'hasSquad': True, 'matchStarted': True, 'matchEnded': True}, {'id': 'd4279c6c-b823-4222-a2e7-54d3b56f734d', 'name': 'Philippines Women vs Singapore Women, 3rd T20I', 'matchType': 't20', 'status': 'Singapore Women won by 9 wkts', 'venue': 'Friendship Oval Emilio Aguinaldo College, Dasmarinas', 'date': '2023-12-29', 'dateTimeGMT': '2023-12-29T02:00:00', 'teams': ['Philippines Women', 'Singapore Women'], 'teamInfo': [{'name': 'Philippines Women', 'shortname': 'PHW', 'img': 'https://g.cricapi.com/iapi/70-637869112270788027.webp?w=48'}, {'name': 'Singapore Women', 'shortname': 'SIN-W', 'img': 'https://g.cricapi.com/iapi/1553-637926305464374356.webp?w=48'}], 'fantasyEnabled': True, 'bbbEnabled': False, 'hasSquad': True, 'matchStarted': True, 'matchEnded': True}]}, 'status': 'success', 'info': {'hitsToday': 1, 'hitsUsed': 1, 'hitsLimit': 100, 'credits': 0, 'server': 11, 'queryTime': 39.4115, 's': 0, 'cache': 0}}\n"
          ]
        }
      ]
    },
    {
      "cell_type": "code",
      "execution_count": null,
      "metadata": {
        "id": "vNqFmIs_VhuC",
        "colab": {
          "base_uri": "https://localhost:8080/"
        },
        "outputId": "a983cde9-c803-45d3-b74e-31bdb8d933ea"
      },
      "outputs": [
        {
          "output_type": "stream",
          "name": "stdout",
          "text": [
            "{'coord': {'lon': 74.3436, 'lat': 31.5497}, 'weather': [{'id': 701, 'main': 'Mist', 'description': 'mist', 'icon': '50n'}], 'base': 'stations', 'main': {'temp': 281.14, 'feels_like': 281.14, 'temp_min': 281.14, 'temp_max': 281.14, 'pressure': 1015, 'humidity': 81}, 'visibility': 800, 'wind': {'speed': 0, 'deg': 0}, 'clouds': {'all': 4}, 'dt': 1705433589, 'sys': {'type': 1, 'id': 7585, 'country': 'PK', 'sunrise': 1705456929, 'sunset': 1705494137}, 'timezone': 18000, 'id': 1172451, 'name': 'Lahore', 'cod': 200}\n"
          ]
        }
      ],
      "source": [
        "print(api_data)\n",
        "prompt = f\"Generate articles on the current weather of {city_name}\"\n",
        "prompt_template = f'''SYSTEM: You are a news editor and your task is to write article. So write a report on the current weather of {city_name} using the data output from the api {api_data}.\n",
        "The article should be be lengthy, aim for atleast 800 words. Your type of vocabulary should be Advanced.\n",
        "\n",
        "USER: {prompt}\n",
        "\n",
        "ASSISTANT:\n",
        "'''"
      ]
    },
    {
      "cell_type": "code",
      "execution_count": null,
      "metadata": {
        "id": "m2Pqm8MTbbSV",
        "colab": {
          "base_uri": "https://localhost:8080/"
        },
        "outputId": "399f4aac-b7ad-461c-8c5b-22c8f416c236"
      },
      "outputs": [
        {
          "output_type": "stream",
          "name": "stderr",
          "text": [
            "Llama.generate: prefix-match hit\n"
          ]
        }
      ],
      "source": [
        "response=lcpp_llm(prompt=prompt_template, max_tokens=2048, temperature=1, top_p=0.95, repeat_penalty=1.2, top_k=150, echo=False)"
      ]
    },
    {
      "cell_type": "code",
      "source": [
        "print(response)"
      ],
      "metadata": {
        "colab": {
          "base_uri": "https://localhost:8080/"
        },
        "id": "KQNeJ5Sqd07V",
        "outputId": "2aed3eea-9620-4daf-b918-18278cdc0430"
      },
      "execution_count": null,
      "outputs": [
        {
          "output_type": "stream",
          "name": "stdout",
          "text": [
            "{'id': 'cmpl-66018f01-c70f-4a51-8ea5-a53e69b1077e', 'object': 'text_completion', 'created': 1705433802, 'model': '/root/.cache/huggingface/hub/models--mash01--llama2_7b_article/snapshots/6b8c19624325db1f502bf0d71e2d182d051770e6/llama2_article.bin', 'choices': [{'text': 'Of course! Here\\'s an in-depth analysis of the current weather conditions in Lahore, Pakistan based on the data provided by the API.\\n\\nLahore Weather Conditions - A Detailed Analysis\\n\\nLahore, the cultural hub of Pakistan and one of the most populous cities in the country, is currently experiencing misty weather with a temperature of 281.14 degrees Celsius (Fahrenheit: 509 degrees Fahrenheit). This can be observed from the data provided by the API, which shows that Lahore\\'s current weather conditions are as follows:\\n\\nCoord: {lon: 74.3436, lat: 31.5497}\\nWeather: [{id: 701, main: \"Mist\", description: \"mist\", icon: \"50n\"}]\\nBase: stations\\nMain: {\"temp\": 281.14, \"feels_like\": 281.14, \" temp_min\": 281.14, \"temp_max\": 281.14,\"pressure\": 1015, \"humidity\": 81}\\nVisibility: 800\\nWind: {\"speed\": 0, \"deg\": 0}\\nClouds: {\"all\": 4}\\nDT: 1705433589\\nSys: {\"type\": 1,\"id\": 7585,\"country\": \"PK\", \"sunrise\": 1705456929, \"sunset\": 1705494137}\\nTimezone: 18000\\nID: 1172451\\nName: Lahore\\nCod: 200\\n\\nFrom this data, we can observe that the current weather in Lahore is quite misty with a temperature of 281.14 degrees Celsius (Fahrenheit: 509 degrees Fahrenheit). The humidity level is also relatively high at 81%. There are only a few clouds visible, and there is no wind or precipitation occurring at the moment.\\n\\nThe API data also provides information on Lahore\\'s weather patterns over time. According to the data, the sunrise in Lahore today was at 7:05 AM (PKT), while the sunset will be at 6:02 PM (PKT). The current temperature is expected to remain relatively stable throughout the day, with a minimal change of about 1-2 degrees Celsius.\\n\\nIt\\'s worth noting that Lahore experiences diverse weather patterns due to its location near the border with India and Afghanistan. In general, Lahore has hot summers and cold winters, but it can also experience extreme heatwaves during the summer months (May-June). The city is located in a fertile plain between two rivers - the Ravi and the Chenab - which contribute to its mild climate throughout the year.\\n\\nThe data provided by the API also shows that Lahore\\'s weather has been trending towards warmer temperatures over time, with an increase of about 2-3 degrees Celsius compared to previous years. This could be due to a number of factors such as global warming or changes in urban development patterns around the city.\\n\\nIn conclusion, Lahore\\'s current weather conditions are misty with relatively high humidity levels and only a few clouds visible in the sky. The temperature is expected to remain stable throughout the day, but there may be some fluctuations during the summer months (May-June). Overall, it\\'s important to stay informed about Lahore\\'s weather patterns due to their potential impact on daily life and activities.', 'index': 0, 'logprobs': None, 'finish_reason': 'stop'}], 'usage': {'prompt_tokens': 378, 'completion_tokens': 841, 'total_tokens': 1219}}\n"
          ]
        }
      ]
    },
    {
      "cell_type": "code",
      "source": [
        "print(response[\"choices\"][0][\"text\"])"
      ],
      "metadata": {
        "id": "3-jKOYfXgJ5y",
        "colab": {
          "base_uri": "https://localhost:8080/"
        },
        "outputId": "811f342d-1d84-4e16-8228-edbd31a63516"
      },
      "execution_count": null,
      "outputs": [
        {
          "output_type": "stream",
          "name": "stdout",
          "text": [
            "Of course! Here's an in-depth analysis of the current weather conditions in Lahore, Pakistan based on the data provided by the API.\n",
            "\n",
            "Lahore Weather Conditions - A Detailed Analysis\n",
            "\n",
            "Lahore, the cultural hub of Pakistan and one of the most populous cities in the country, is currently experiencing misty weather with a temperature of 281.14 degrees Celsius (Fahrenheit: 509 degrees Fahrenheit). This can be observed from the data provided by the API, which shows that Lahore's current weather conditions are as follows:\n",
            "\n",
            "Coord: {lon: 74.3436, lat: 31.5497}\n",
            "Weather: [{id: 701, main: \"Mist\", description: \"mist\", icon: \"50n\"}]\n",
            "Base: stations\n",
            "Main: {\"temp\": 281.14, \"feels_like\": 281.14, \" temp_min\": 281.14, \"temp_max\": 281.14,\"pressure\": 1015, \"humidity\": 81}\n",
            "Visibility: 800\n",
            "Wind: {\"speed\": 0, \"deg\": 0}\n",
            "Clouds: {\"all\": 4}\n",
            "DT: 1705433589\n",
            "Sys: {\"type\": 1,\"id\": 7585,\"country\": \"PK\", \"sunrise\": 1705456929, \"sunset\": 1705494137}\n",
            "Timezone: 18000\n",
            "ID: 1172451\n",
            "Name: Lahore\n",
            "Cod: 200\n",
            "\n",
            "From this data, we can observe that the current weather in Lahore is quite misty with a temperature of 281.14 degrees Celsius (Fahrenheit: 509 degrees Fahrenheit). The humidity level is also relatively high at 81%. There are only a few clouds visible, and there is no wind or precipitation occurring at the moment.\n",
            "\n",
            "The API data also provides information on Lahore's weather patterns over time. According to the data, the sunrise in Lahore today was at 7:05 AM (PKT), while the sunset will be at 6:02 PM (PKT). The current temperature is expected to remain relatively stable throughout the day, with a minimal change of about 1-2 degrees Celsius.\n",
            "\n",
            "It's worth noting that Lahore experiences diverse weather patterns due to its location near the border with India and Afghanistan. In general, Lahore has hot summers and cold winters, but it can also experience extreme heatwaves during the summer months (May-June). The city is located in a fertile plain between two rivers - the Ravi and the Chenab - which contribute to its mild climate throughout the year.\n",
            "\n",
            "The data provided by the API also shows that Lahore's weather has been trending towards warmer temperatures over time, with an increase of about 2-3 degrees Celsius compared to previous years. This could be due to a number of factors such as global warming or changes in urban development patterns around the city.\n",
            "\n",
            "In conclusion, Lahore's current weather conditions are misty with relatively high humidity levels and only a few clouds visible in the sky. The temperature is expected to remain stable throughout the day, but there may be some fluctuations during the summer months (May-June). Overall, it's important to stay informed about Lahore's weather patterns due to their potential impact on daily life and activities.\n"
          ]
        }
      ]
    },
    {
      "cell_type": "code",
      "source": [
        "response=lcpp_llm2(prompt=prompt_template, max_tokens=2048, temperature=1, top_p=0.95, repeat_penalty=1.2, top_k=150, echo=False)\n",
        "print(response)"
      ],
      "metadata": {
        "colab": {
          "base_uri": "https://localhost:8080/",
          "height": 192
        },
        "id": "iwlQwTZ8fxvy",
        "outputId": "1d3f9b74-8bc4-442e-bd8c-ba17ae113fea"
      },
      "execution_count": null,
      "outputs": [
        {
          "output_type": "error",
          "ename": "NameError",
          "evalue": "name 'lcpp_llm2' is not defined",
          "traceback": [
            "\u001b[0;31m---------------------------------------------------------------------------\u001b[0m",
            "\u001b[0;31mNameError\u001b[0m                                 Traceback (most recent call last)",
            "\u001b[0;32m<ipython-input-1-c268ed7f704b>\u001b[0m in \u001b[0;36m<cell line: 1>\u001b[0;34m()\u001b[0m\n\u001b[0;32m----> 1\u001b[0;31m \u001b[0mresponse\u001b[0m\u001b[0;34m=\u001b[0m\u001b[0mlcpp_llm2\u001b[0m\u001b[0;34m(\u001b[0m\u001b[0mprompt\u001b[0m\u001b[0;34m=\u001b[0m\u001b[0mprompt_template\u001b[0m\u001b[0;34m,\u001b[0m \u001b[0mmax_tokens\u001b[0m\u001b[0;34m=\u001b[0m\u001b[0;36m2048\u001b[0m\u001b[0;34m,\u001b[0m \u001b[0mtemperature\u001b[0m\u001b[0;34m=\u001b[0m\u001b[0;36m1\u001b[0m\u001b[0;34m,\u001b[0m \u001b[0mtop_p\u001b[0m\u001b[0;34m=\u001b[0m\u001b[0;36m0.95\u001b[0m\u001b[0;34m,\u001b[0m \u001b[0mrepeat_penalty\u001b[0m\u001b[0;34m=\u001b[0m\u001b[0;36m1.2\u001b[0m\u001b[0;34m,\u001b[0m \u001b[0mtop_k\u001b[0m\u001b[0;34m=\u001b[0m\u001b[0;36m150\u001b[0m\u001b[0;34m,\u001b[0m \u001b[0mecho\u001b[0m\u001b[0;34m=\u001b[0m\u001b[0;32mFalse\u001b[0m\u001b[0;34m)\u001b[0m\u001b[0;34m\u001b[0m\u001b[0;34m\u001b[0m\u001b[0m\n\u001b[0m\u001b[1;32m      2\u001b[0m \u001b[0mprint\u001b[0m\u001b[0;34m(\u001b[0m\u001b[0mresponse\u001b[0m\u001b[0;34m)\u001b[0m\u001b[0;34m\u001b[0m\u001b[0;34m\u001b[0m\u001b[0m\n",
            "\u001b[0;31mNameError\u001b[0m: name 'lcpp_llm2' is not defined"
          ]
        }
      ]
    },
    {
      "cell_type": "code",
      "source": [
        "print(response[\"choices\"][0][\"text\"])"
      ],
      "metadata": {
        "colab": {
          "base_uri": "https://localhost:8080/"
        },
        "id": "3FBvh7fBfyiB",
        "outputId": "fcca193f-2c7d-48ce-faf9-3a270c7fb315"
      },
      "execution_count": null,
      "outputs": [
        {
          "output_type": "stream",
          "name": "stdout",
          "text": [
            "Please enter the number of lines you want to print out from data set .\n"
          ]
        }
      ]
    }
  ],
  "metadata": {
    "colab": {
      "provenance": [],
      "include_colab_link": true
    },
    "kernelspec": {
      "display_name": "Python 3",
      "name": "python3"
    },
    "language_info": {
      "name": "python"
    },
    "accelerator": "TPU",
    "widgets": {
      "application/vnd.jupyter.widget-state+json": {
        "faa45f169b4b4b1e8bc116dc76466607": {
          "model_module": "@jupyter-widgets/controls",
          "model_name": "HBoxModel",
          "model_module_version": "1.5.0",
          "state": {
            "_dom_classes": [],
            "_model_module": "@jupyter-widgets/controls",
            "_model_module_version": "1.5.0",
            "_model_name": "HBoxModel",
            "_view_count": null,
            "_view_module": "@jupyter-widgets/controls",
            "_view_module_version": "1.5.0",
            "_view_name": "HBoxView",
            "box_style": "",
            "children": [
              "IPY_MODEL_eac46794be5b42f29ef67de164611372",
              "IPY_MODEL_cbbe972241bb41ee92e71972ed91f3bb",
              "IPY_MODEL_09cb5b5ac3444e99b152f9e7b43d648e"
            ],
            "layout": "IPY_MODEL_4896a745e2ec4e41a937f41077cc55f1"
          }
        },
        "eac46794be5b42f29ef67de164611372": {
          "model_module": "@jupyter-widgets/controls",
          "model_name": "HTMLModel",
          "model_module_version": "1.5.0",
          "state": {
            "_dom_classes": [],
            "_model_module": "@jupyter-widgets/controls",
            "_model_module_version": "1.5.0",
            "_model_name": "HTMLModel",
            "_view_count": null,
            "_view_module": "@jupyter-widgets/controls",
            "_view_module_version": "1.5.0",
            "_view_name": "HTMLView",
            "description": "",
            "description_tooltip": null,
            "layout": "IPY_MODEL_504dd43e18934604b386d49ef30eb81e",
            "placeholder": "​",
            "style": "IPY_MODEL_f61e9338302c45938ef983abd1590da3",
            "value": "llama2_article.bin: 100%"
          }
        },
        "cbbe972241bb41ee92e71972ed91f3bb": {
          "model_module": "@jupyter-widgets/controls",
          "model_name": "FloatProgressModel",
          "model_module_version": "1.5.0",
          "state": {
            "_dom_classes": [],
            "_model_module": "@jupyter-widgets/controls",
            "_model_module_version": "1.5.0",
            "_model_name": "FloatProgressModel",
            "_view_count": null,
            "_view_module": "@jupyter-widgets/controls",
            "_view_module_version": "1.5.0",
            "_view_name": "ProgressView",
            "bar_style": "success",
            "description": "",
            "description_tooltip": null,
            "layout": "IPY_MODEL_0554514b8a79462fa05b87f63757b81c",
            "max": 5055128192,
            "min": 0,
            "orientation": "horizontal",
            "style": "IPY_MODEL_d2a011ca3cba4c3aa3188eec21acf2cb",
            "value": 5055128192
          }
        },
        "09cb5b5ac3444e99b152f9e7b43d648e": {
          "model_module": "@jupyter-widgets/controls",
          "model_name": "HTMLModel",
          "model_module_version": "1.5.0",
          "state": {
            "_dom_classes": [],
            "_model_module": "@jupyter-widgets/controls",
            "_model_module_version": "1.5.0",
            "_model_name": "HTMLModel",
            "_view_count": null,
            "_view_module": "@jupyter-widgets/controls",
            "_view_module_version": "1.5.0",
            "_view_name": "HTMLView",
            "description": "",
            "description_tooltip": null,
            "layout": "IPY_MODEL_c8252b986c4447c78a4fe923679b86fd",
            "placeholder": "​",
            "style": "IPY_MODEL_3de54fa06aaf44ba85e6aecdf22c7af0",
            "value": " 5.06G/5.06G [01:54&lt;00:00, 36.5MB/s]"
          }
        },
        "4896a745e2ec4e41a937f41077cc55f1": {
          "model_module": "@jupyter-widgets/base",
          "model_name": "LayoutModel",
          "model_module_version": "1.2.0",
          "state": {
            "_model_module": "@jupyter-widgets/base",
            "_model_module_version": "1.2.0",
            "_model_name": "LayoutModel",
            "_view_count": null,
            "_view_module": "@jupyter-widgets/base",
            "_view_module_version": "1.2.0",
            "_view_name": "LayoutView",
            "align_content": null,
            "align_items": null,
            "align_self": null,
            "border": null,
            "bottom": null,
            "display": null,
            "flex": null,
            "flex_flow": null,
            "grid_area": null,
            "grid_auto_columns": null,
            "grid_auto_flow": null,
            "grid_auto_rows": null,
            "grid_column": null,
            "grid_gap": null,
            "grid_row": null,
            "grid_template_areas": null,
            "grid_template_columns": null,
            "grid_template_rows": null,
            "height": null,
            "justify_content": null,
            "justify_items": null,
            "left": null,
            "margin": null,
            "max_height": null,
            "max_width": null,
            "min_height": null,
            "min_width": null,
            "object_fit": null,
            "object_position": null,
            "order": null,
            "overflow": null,
            "overflow_x": null,
            "overflow_y": null,
            "padding": null,
            "right": null,
            "top": null,
            "visibility": null,
            "width": null
          }
        },
        "504dd43e18934604b386d49ef30eb81e": {
          "model_module": "@jupyter-widgets/base",
          "model_name": "LayoutModel",
          "model_module_version": "1.2.0",
          "state": {
            "_model_module": "@jupyter-widgets/base",
            "_model_module_version": "1.2.0",
            "_model_name": "LayoutModel",
            "_view_count": null,
            "_view_module": "@jupyter-widgets/base",
            "_view_module_version": "1.2.0",
            "_view_name": "LayoutView",
            "align_content": null,
            "align_items": null,
            "align_self": null,
            "border": null,
            "bottom": null,
            "display": null,
            "flex": null,
            "flex_flow": null,
            "grid_area": null,
            "grid_auto_columns": null,
            "grid_auto_flow": null,
            "grid_auto_rows": null,
            "grid_column": null,
            "grid_gap": null,
            "grid_row": null,
            "grid_template_areas": null,
            "grid_template_columns": null,
            "grid_template_rows": null,
            "height": null,
            "justify_content": null,
            "justify_items": null,
            "left": null,
            "margin": null,
            "max_height": null,
            "max_width": null,
            "min_height": null,
            "min_width": null,
            "object_fit": null,
            "object_position": null,
            "order": null,
            "overflow": null,
            "overflow_x": null,
            "overflow_y": null,
            "padding": null,
            "right": null,
            "top": null,
            "visibility": null,
            "width": null
          }
        },
        "f61e9338302c45938ef983abd1590da3": {
          "model_module": "@jupyter-widgets/controls",
          "model_name": "DescriptionStyleModel",
          "model_module_version": "1.5.0",
          "state": {
            "_model_module": "@jupyter-widgets/controls",
            "_model_module_version": "1.5.0",
            "_model_name": "DescriptionStyleModel",
            "_view_count": null,
            "_view_module": "@jupyter-widgets/base",
            "_view_module_version": "1.2.0",
            "_view_name": "StyleView",
            "description_width": ""
          }
        },
        "0554514b8a79462fa05b87f63757b81c": {
          "model_module": "@jupyter-widgets/base",
          "model_name": "LayoutModel",
          "model_module_version": "1.2.0",
          "state": {
            "_model_module": "@jupyter-widgets/base",
            "_model_module_version": "1.2.0",
            "_model_name": "LayoutModel",
            "_view_count": null,
            "_view_module": "@jupyter-widgets/base",
            "_view_module_version": "1.2.0",
            "_view_name": "LayoutView",
            "align_content": null,
            "align_items": null,
            "align_self": null,
            "border": null,
            "bottom": null,
            "display": null,
            "flex": null,
            "flex_flow": null,
            "grid_area": null,
            "grid_auto_columns": null,
            "grid_auto_flow": null,
            "grid_auto_rows": null,
            "grid_column": null,
            "grid_gap": null,
            "grid_row": null,
            "grid_template_areas": null,
            "grid_template_columns": null,
            "grid_template_rows": null,
            "height": null,
            "justify_content": null,
            "justify_items": null,
            "left": null,
            "margin": null,
            "max_height": null,
            "max_width": null,
            "min_height": null,
            "min_width": null,
            "object_fit": null,
            "object_position": null,
            "order": null,
            "overflow": null,
            "overflow_x": null,
            "overflow_y": null,
            "padding": null,
            "right": null,
            "top": null,
            "visibility": null,
            "width": null
          }
        },
        "d2a011ca3cba4c3aa3188eec21acf2cb": {
          "model_module": "@jupyter-widgets/controls",
          "model_name": "ProgressStyleModel",
          "model_module_version": "1.5.0",
          "state": {
            "_model_module": "@jupyter-widgets/controls",
            "_model_module_version": "1.5.0",
            "_model_name": "ProgressStyleModel",
            "_view_count": null,
            "_view_module": "@jupyter-widgets/base",
            "_view_module_version": "1.2.0",
            "_view_name": "StyleView",
            "bar_color": null,
            "description_width": ""
          }
        },
        "c8252b986c4447c78a4fe923679b86fd": {
          "model_module": "@jupyter-widgets/base",
          "model_name": "LayoutModel",
          "model_module_version": "1.2.0",
          "state": {
            "_model_module": "@jupyter-widgets/base",
            "_model_module_version": "1.2.0",
            "_model_name": "LayoutModel",
            "_view_count": null,
            "_view_module": "@jupyter-widgets/base",
            "_view_module_version": "1.2.0",
            "_view_name": "LayoutView",
            "align_content": null,
            "align_items": null,
            "align_self": null,
            "border": null,
            "bottom": null,
            "display": null,
            "flex": null,
            "flex_flow": null,
            "grid_area": null,
            "grid_auto_columns": null,
            "grid_auto_flow": null,
            "grid_auto_rows": null,
            "grid_column": null,
            "grid_gap": null,
            "grid_row": null,
            "grid_template_areas": null,
            "grid_template_columns": null,
            "grid_template_rows": null,
            "height": null,
            "justify_content": null,
            "justify_items": null,
            "left": null,
            "margin": null,
            "max_height": null,
            "max_width": null,
            "min_height": null,
            "min_width": null,
            "object_fit": null,
            "object_position": null,
            "order": null,
            "overflow": null,
            "overflow_x": null,
            "overflow_y": null,
            "padding": null,
            "right": null,
            "top": null,
            "visibility": null,
            "width": null
          }
        },
        "3de54fa06aaf44ba85e6aecdf22c7af0": {
          "model_module": "@jupyter-widgets/controls",
          "model_name": "DescriptionStyleModel",
          "model_module_version": "1.5.0",
          "state": {
            "_model_module": "@jupyter-widgets/controls",
            "_model_module_version": "1.5.0",
            "_model_name": "DescriptionStyleModel",
            "_view_count": null,
            "_view_module": "@jupyter-widgets/base",
            "_view_module_version": "1.2.0",
            "_view_name": "StyleView",
            "description_width": ""
          }
        },
        "734bc236b13a440583934cca49e9edf1": {
          "model_module": "@jupyter-widgets/controls",
          "model_name": "HBoxModel",
          "model_module_version": "1.5.0",
          "state": {
            "_dom_classes": [],
            "_model_module": "@jupyter-widgets/controls",
            "_model_module_version": "1.5.0",
            "_model_name": "HBoxModel",
            "_view_count": null,
            "_view_module": "@jupyter-widgets/controls",
            "_view_module_version": "1.5.0",
            "_view_name": "HBoxView",
            "box_style": "",
            "children": [
              "IPY_MODEL_a2419e9f005148539e850ac849d67b05",
              "IPY_MODEL_e9cd1faacc1b42adb32e7654615f0bef",
              "IPY_MODEL_69877c7832bd46b1a966b9b4d53a28a4"
            ],
            "layout": "IPY_MODEL_bb97c95c4fc046dab0162167bbf3e4b5"
          }
        },
        "a2419e9f005148539e850ac849d67b05": {
          "model_module": "@jupyter-widgets/controls",
          "model_name": "HTMLModel",
          "model_module_version": "1.5.0",
          "state": {
            "_dom_classes": [],
            "_model_module": "@jupyter-widgets/controls",
            "_model_module_version": "1.5.0",
            "_model_name": "HTMLModel",
            "_view_count": null,
            "_view_module": "@jupyter-widgets/controls",
            "_view_module_version": "1.5.0",
            "_view_name": "HTMLView",
            "description": "",
            "description_tooltip": null,
            "layout": "IPY_MODEL_6f0c8277b9a848d18f40950382dee48f",
            "placeholder": "​",
            "style": "IPY_MODEL_714186cb91eb4e33804619e31c646147",
            "value": "llama-13b.ggmlv3.q5_1.bin: 100%"
          }
        },
        "e9cd1faacc1b42adb32e7654615f0bef": {
          "model_module": "@jupyter-widgets/controls",
          "model_name": "FloatProgressModel",
          "model_module_version": "1.5.0",
          "state": {
            "_dom_classes": [],
            "_model_module": "@jupyter-widgets/controls",
            "_model_module_version": "1.5.0",
            "_model_name": "FloatProgressModel",
            "_view_count": null,
            "_view_module": "@jupyter-widgets/controls",
            "_view_module_version": "1.5.0",
            "_view_name": "ProgressView",
            "bar_style": "success",
            "description": "",
            "description_tooltip": null,
            "layout": "IPY_MODEL_8e9283b49b4f465992ab197061152abc",
            "max": 9763701888,
            "min": 0,
            "orientation": "horizontal",
            "style": "IPY_MODEL_d6eaabbb6f06452687876c5a87dffb1d",
            "value": 9763701888
          }
        },
        "69877c7832bd46b1a966b9b4d53a28a4": {
          "model_module": "@jupyter-widgets/controls",
          "model_name": "HTMLModel",
          "model_module_version": "1.5.0",
          "state": {
            "_dom_classes": [],
            "_model_module": "@jupyter-widgets/controls",
            "_model_module_version": "1.5.0",
            "_model_name": "HTMLModel",
            "_view_count": null,
            "_view_module": "@jupyter-widgets/controls",
            "_view_module_version": "1.5.0",
            "_view_name": "HTMLView",
            "description": "",
            "description_tooltip": null,
            "layout": "IPY_MODEL_fe7cf850e51940d7b595b413206667e9",
            "placeholder": "​",
            "style": "IPY_MODEL_fbdc3caceac843d38c0e324ca0301778",
            "value": " 9.76G/9.76G [16:10&lt;00:00, 43.5MB/s]"
          }
        },
        "bb97c95c4fc046dab0162167bbf3e4b5": {
          "model_module": "@jupyter-widgets/base",
          "model_name": "LayoutModel",
          "model_module_version": "1.2.0",
          "state": {
            "_model_module": "@jupyter-widgets/base",
            "_model_module_version": "1.2.0",
            "_model_name": "LayoutModel",
            "_view_count": null,
            "_view_module": "@jupyter-widgets/base",
            "_view_module_version": "1.2.0",
            "_view_name": "LayoutView",
            "align_content": null,
            "align_items": null,
            "align_self": null,
            "border": null,
            "bottom": null,
            "display": null,
            "flex": null,
            "flex_flow": null,
            "grid_area": null,
            "grid_auto_columns": null,
            "grid_auto_flow": null,
            "grid_auto_rows": null,
            "grid_column": null,
            "grid_gap": null,
            "grid_row": null,
            "grid_template_areas": null,
            "grid_template_columns": null,
            "grid_template_rows": null,
            "height": null,
            "justify_content": null,
            "justify_items": null,
            "left": null,
            "margin": null,
            "max_height": null,
            "max_width": null,
            "min_height": null,
            "min_width": null,
            "object_fit": null,
            "object_position": null,
            "order": null,
            "overflow": null,
            "overflow_x": null,
            "overflow_y": null,
            "padding": null,
            "right": null,
            "top": null,
            "visibility": null,
            "width": null
          }
        },
        "6f0c8277b9a848d18f40950382dee48f": {
          "model_module": "@jupyter-widgets/base",
          "model_name": "LayoutModel",
          "model_module_version": "1.2.0",
          "state": {
            "_model_module": "@jupyter-widgets/base",
            "_model_module_version": "1.2.0",
            "_model_name": "LayoutModel",
            "_view_count": null,
            "_view_module": "@jupyter-widgets/base",
            "_view_module_version": "1.2.0",
            "_view_name": "LayoutView",
            "align_content": null,
            "align_items": null,
            "align_self": null,
            "border": null,
            "bottom": null,
            "display": null,
            "flex": null,
            "flex_flow": null,
            "grid_area": null,
            "grid_auto_columns": null,
            "grid_auto_flow": null,
            "grid_auto_rows": null,
            "grid_column": null,
            "grid_gap": null,
            "grid_row": null,
            "grid_template_areas": null,
            "grid_template_columns": null,
            "grid_template_rows": null,
            "height": null,
            "justify_content": null,
            "justify_items": null,
            "left": null,
            "margin": null,
            "max_height": null,
            "max_width": null,
            "min_height": null,
            "min_width": null,
            "object_fit": null,
            "object_position": null,
            "order": null,
            "overflow": null,
            "overflow_x": null,
            "overflow_y": null,
            "padding": null,
            "right": null,
            "top": null,
            "visibility": null,
            "width": null
          }
        },
        "714186cb91eb4e33804619e31c646147": {
          "model_module": "@jupyter-widgets/controls",
          "model_name": "DescriptionStyleModel",
          "model_module_version": "1.5.0",
          "state": {
            "_model_module": "@jupyter-widgets/controls",
            "_model_module_version": "1.5.0",
            "_model_name": "DescriptionStyleModel",
            "_view_count": null,
            "_view_module": "@jupyter-widgets/base",
            "_view_module_version": "1.2.0",
            "_view_name": "StyleView",
            "description_width": ""
          }
        },
        "8e9283b49b4f465992ab197061152abc": {
          "model_module": "@jupyter-widgets/base",
          "model_name": "LayoutModel",
          "model_module_version": "1.2.0",
          "state": {
            "_model_module": "@jupyter-widgets/base",
            "_model_module_version": "1.2.0",
            "_model_name": "LayoutModel",
            "_view_count": null,
            "_view_module": "@jupyter-widgets/base",
            "_view_module_version": "1.2.0",
            "_view_name": "LayoutView",
            "align_content": null,
            "align_items": null,
            "align_self": null,
            "border": null,
            "bottom": null,
            "display": null,
            "flex": null,
            "flex_flow": null,
            "grid_area": null,
            "grid_auto_columns": null,
            "grid_auto_flow": null,
            "grid_auto_rows": null,
            "grid_column": null,
            "grid_gap": null,
            "grid_row": null,
            "grid_template_areas": null,
            "grid_template_columns": null,
            "grid_template_rows": null,
            "height": null,
            "justify_content": null,
            "justify_items": null,
            "left": null,
            "margin": null,
            "max_height": null,
            "max_width": null,
            "min_height": null,
            "min_width": null,
            "object_fit": null,
            "object_position": null,
            "order": null,
            "overflow": null,
            "overflow_x": null,
            "overflow_y": null,
            "padding": null,
            "right": null,
            "top": null,
            "visibility": null,
            "width": null
          }
        },
        "d6eaabbb6f06452687876c5a87dffb1d": {
          "model_module": "@jupyter-widgets/controls",
          "model_name": "ProgressStyleModel",
          "model_module_version": "1.5.0",
          "state": {
            "_model_module": "@jupyter-widgets/controls",
            "_model_module_version": "1.5.0",
            "_model_name": "ProgressStyleModel",
            "_view_count": null,
            "_view_module": "@jupyter-widgets/base",
            "_view_module_version": "1.2.0",
            "_view_name": "StyleView",
            "bar_color": null,
            "description_width": ""
          }
        },
        "fe7cf850e51940d7b595b413206667e9": {
          "model_module": "@jupyter-widgets/base",
          "model_name": "LayoutModel",
          "model_module_version": "1.2.0",
          "state": {
            "_model_module": "@jupyter-widgets/base",
            "_model_module_version": "1.2.0",
            "_model_name": "LayoutModel",
            "_view_count": null,
            "_view_module": "@jupyter-widgets/base",
            "_view_module_version": "1.2.0",
            "_view_name": "LayoutView",
            "align_content": null,
            "align_items": null,
            "align_self": null,
            "border": null,
            "bottom": null,
            "display": null,
            "flex": null,
            "flex_flow": null,
            "grid_area": null,
            "grid_auto_columns": null,
            "grid_auto_flow": null,
            "grid_auto_rows": null,
            "grid_column": null,
            "grid_gap": null,
            "grid_row": null,
            "grid_template_areas": null,
            "grid_template_columns": null,
            "grid_template_rows": null,
            "height": null,
            "justify_content": null,
            "justify_items": null,
            "left": null,
            "margin": null,
            "max_height": null,
            "max_width": null,
            "min_height": null,
            "min_width": null,
            "object_fit": null,
            "object_position": null,
            "order": null,
            "overflow": null,
            "overflow_x": null,
            "overflow_y": null,
            "padding": null,
            "right": null,
            "top": null,
            "visibility": null,
            "width": null
          }
        },
        "fbdc3caceac843d38c0e324ca0301778": {
          "model_module": "@jupyter-widgets/controls",
          "model_name": "DescriptionStyleModel",
          "model_module_version": "1.5.0",
          "state": {
            "_model_module": "@jupyter-widgets/controls",
            "_model_module_version": "1.5.0",
            "_model_name": "DescriptionStyleModel",
            "_view_count": null,
            "_view_module": "@jupyter-widgets/base",
            "_view_module_version": "1.2.0",
            "_view_name": "StyleView",
            "description_width": ""
          }
        }
      }
    }
  },
  "nbformat": 4,
  "nbformat_minor": 0
}